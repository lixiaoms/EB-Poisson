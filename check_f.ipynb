{
 "cells": [
  {
   "cell_type": "markdown",
   "id": "910bd153",
   "metadata": {},
   "source": [
    "The code is to verify that $$\\sum_{x=0}^{\\max(50,2[\\lambda])}\\log\\Big(\\frac{x+0.5}{\\lambda}\\Big)\\frac{\\lambda^x}{x!}\\exp(-\\lambda)\\lambda>-0.012,$$ where $\\lambda=1+0.004\\times i$, $i=0,1,\\dots,10^6$."
   ]
  },
  {
   "cell_type": "markdown",
   "id": "753267c0",
   "metadata": {},
   "source": [
    "This is a Julia code, which spends about 200s on a computer with Intel(R) Core(TM) i7-9750H CPU @ 2.60GHz"
   ]
  },
  {
   "cell_type": "code",
   "execution_count": 1,
   "id": "40bd6e4a",
   "metadata": {},
   "outputs": [],
   "source": [
    "for i in 0:1000000\n",
    "    lambda=1+0.004*i\n",
    "    f=log(0.5/lambda)*exp(-lambda)*lambda\n",
    "    a=0\n",
    "    for x in 1:max(50,round(lambda)*2)\n",
    "        a+=log(lambda/x)\n",
    "        f+=log((x+0.5)/lambda)*exp(a-lambda)*lambda\n",
    "    end\n",
    "    if f<=-0.011\n",
    "        print(i)\n",
    "        break\n",
    "    end\n",
    "end"
   ]
  },
  {
   "cell_type": "markdown",
   "id": "b95565f6",
   "metadata": {},
   "source": [
    "The flow of the code is described as follows:  \n",
    "  \n",
    "Given $\\lambda$  \n",
    "$f=\\log(0.5/\\lambda)\\exp(-\\lambda)\\lambda$  \n",
    "$a=0$  \n",
    "for $x=1,2,\\dots,\\max(50,2[\\lambda])$:  \n",
    "$\\;\\;a=a+\\log(\\lambda/x)$  \n",
    "$\\;\\;f=f+\\log((x+0.5)/\\lambda)\\exp(a-\\lambda)\\lambda$  \n",
    "end  \n",
    "check if $f>-0.011$"
   ]
  },
  {
   "cell_type": "markdown",
   "id": "e3645b53",
   "metadata": {},
   "source": [
    "The precision analysis of the calculation is as follows:  \n",
    "  \n",
    "We have $\\lambda\\le4001$.  \n",
    "Julia uses Float64, with at least 15 significant digits. Therefore, in the loop for $x$, the calculation error of $a$ is less than $\\max(50,2\\lambda)(\\log(\\lambda)+\\log(50))∗10^{−15}$, which is less than $10^{−10}$.  \n",
    "Therefore, in the loop for $x$, the calculation error of $\\log((x+0.5)/\\lambda)\\exp(a-\\lambda)\\lambda$ is less than $10^{−9}$ times its own absolute value.  \n",
    "In addtion, the absolute value of $\\log((x+0.5)/\\lambda)\\exp(a-\\lambda)\\lambda$ summed over $x=1,2,\\dots,\\max(50,2[\\lambda])$ is less than $(\\log\\lambda+\\log(50))∗\\lambda<10^5$.   \n",
    "Note that the function $\\exp(t)$ in Julia outputs $0$ only if $t<-700$, thus, the calculation error results from this is less than $\\max(50,2\\lambda)(\\log\\lambda+\\log(50))\\exp(-700)\\lambda<10^{-10}.$  \n",
    "Therefore, the overall calculation error of $f$ is less than $10^5\\times 10^{−9}+10^{-10}<0.001$.  \n",
    "Because the output $f>-0.011$, the true value of $f$ is larger than $-0.012$."
   ]
  },
  {
   "cell_type": "markdown",
   "id": "6b65733e",
   "metadata": {},
   "source": [
    "## We give some examples with different $\\lambda$ under precision Float(64) and precision BigFloat(256)"
   ]
  },
  {
   "cell_type": "code",
   "execution_count": 48,
   "id": "ded01842",
   "metadata": {},
   "outputs": [
    {
     "data": {
      "text/plain": [
       "0.0057917023001716255"
      ]
     },
     "execution_count": 48,
     "metadata": {},
     "output_type": "execute_result"
    }
   ],
   "source": [
    "lambda=3\n",
    "f=log(0.5/lambda)*exp(-lambda)*lambda\n",
    "a=0\n",
    "for x in 1:max(50,round(lambda)*2)\n",
    "    a+=log(lambda/x)\n",
    "    f+=log((x+0.5)/lambda)*exp(a-lambda)*lambda\n",
    "end\n",
    "f"
   ]
  },
  {
   "cell_type": "code",
   "execution_count": 49,
   "id": "142f16cf",
   "metadata": {},
   "outputs": [
    {
     "data": {
      "text/plain": [
       "0.005791702300171636115924790281092408300628612557646007588682002891269636248231184"
      ]
     },
     "execution_count": 49,
     "metadata": {},
     "output_type": "execute_result"
    }
   ],
   "source": [
    "setprecision(BigFloat, 256)\n",
    "lambda=3\n",
    "f=BigFloat(BigFloat(BigFloat(log(0.5/lambda))*BigFloat(exp(-lambda)))*lambda)\n",
    "a=0\n",
    "for j in 1:max(50,round(lambda)*2)\n",
    "    a+=BigFloat(log(lambda/j))\n",
    "    f+=BigFloat(BigFloat(BigFloat(log((j+0.5)/lambda))*BigFloat(exp(a-lambda)))*lambda)\n",
    "end\n",
    "f"
   ]
  },
  {
   "cell_type": "code",
   "execution_count": 42,
   "id": "58593ec8",
   "metadata": {},
   "outputs": [
    {
     "data": {
      "text/plain": [
       "-0.0008686823577950949"
      ]
     },
     "execution_count": 42,
     "metadata": {},
     "output_type": "execute_result"
    }
   ],
   "source": [
    "lambda=50\n",
    "f=log(0.5/lambda)*exp(-lambda)*lambda\n",
    "a=0\n",
    "for x in 1:max(50,round(lambda)*2)\n",
    "    a+=log(lambda/x)\n",
    "    f+=log((x+0.5)/lambda)*exp(a-lambda)*lambda\n",
    "end\n",
    "f"
   ]
  },
  {
   "cell_type": "code",
   "execution_count": 43,
   "id": "713df116",
   "metadata": {},
   "outputs": [
    {
     "data": {
      "text/plain": [
       "-0.0008686823577991943675155627775715670921686406270067538473293189835554625728412247"
      ]
     },
     "execution_count": 43,
     "metadata": {},
     "output_type": "execute_result"
    }
   ],
   "source": [
    "setprecision(BigFloat, 256)\n",
    "lambda=50\n",
    "f=BigFloat(BigFloat(BigFloat(log(0.5/lambda))*BigFloat(exp(-lambda)))*lambda)\n",
    "a=0\n",
    "for j in 1:max(50,round(lambda)*2)\n",
    "    a+=BigFloat(log(lambda/j))\n",
    "    f+=BigFloat(BigFloat(BigFloat(log((j+0.5)/lambda))*BigFloat(exp(a-lambda)))*lambda)\n",
    "end\n",
    "f"
   ]
  },
  {
   "cell_type": "code",
   "execution_count": 50,
   "id": "45a30309",
   "metadata": {},
   "outputs": [
    {
     "data": {
      "text/plain": [
       "-1.3898143155623445e-5"
      ]
     },
     "execution_count": 50,
     "metadata": {},
     "output_type": "execute_result"
    }
   ],
   "source": [
    "lambda=3000\n",
    "f=log(0.5/lambda)*exp(-lambda)*lambda\n",
    "a=0\n",
    "for x in 1:max(50,round(lambda)*2)\n",
    "    a+=log(lambda/x)\n",
    "    f+=log((x+0.5)/lambda)*exp(a-lambda)*lambda\n",
    "end\n",
    "f"
   ]
  },
  {
   "cell_type": "code",
   "execution_count": 51,
   "id": "5dd5340b",
   "metadata": {},
   "outputs": [
    {
     "data": {
      "text/plain": [
       "-1.389815675069339020557178657660060644734445677937898013775905124997116477337949e-05"
      ]
     },
     "execution_count": 51,
     "metadata": {},
     "output_type": "execute_result"
    }
   ],
   "source": [
    "setprecision(BigFloat, 256)\n",
    "lambda=3000\n",
    "f=BigFloat(BigFloat(BigFloat(log(0.5/lambda))*BigFloat(exp(-lambda)))*lambda)\n",
    "a=0\n",
    "for j in 1:max(50,round(lambda)*2)\n",
    "    a+=BigFloat(log(lambda/j))\n",
    "    f+=BigFloat(BigFloat(BigFloat(log((j+0.5)/lambda))*BigFloat(exp(a-lambda)))*lambda)\n",
    "end\n",
    "f"
   ]
  },
  {
   "cell_type": "code",
   "execution_count": null,
   "id": "cc96eeaf",
   "metadata": {},
   "outputs": [],
   "source": []
  }
 ],
 "metadata": {
  "kernelspec": {
   "display_name": "Julia 1.7.2",
   "language": "julia",
   "name": "julia-1.7"
  },
  "language_info": {
   "file_extension": ".jl",
   "mimetype": "application/julia",
   "name": "julia",
   "version": "1.7.2"
  }
 },
 "nbformat": 4,
 "nbformat_minor": 5
}
