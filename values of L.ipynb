{
 "cells": [
  {
   "cell_type": "markdown",
   "id": "646266c0",
   "metadata": {},
   "source": [
    "This Python code is to verify that  \n",
    "$$L(\\lambda)=\\sum_{x=0}^{20}\\log(x+0.5)\\frac{\\lambda^{x}}{x!}\\exp(-\\lambda)\\lambda-\\lambda\\log\\lambda$$  \n",
    "satisfies $L(3)>0$, $L(4)>-0.0082$,\n",
    "$L(5)>-0.011.$ "
   ]
  },
  {
   "cell_type": "code",
   "execution_count": 1,
   "id": "08cf2447",
   "metadata": {},
   "outputs": [
    {
     "name": "stdout",
     "output_type": "stream",
     "text": [
      "L(3)=0.005791702191402008\n",
      "L(4)=-0.008019023698407223\n",
      "L(5)=-0.010592572543824234\n"
     ]
    }
   ],
   "source": [
    "from math import *\n",
    "for lambd in range(3,6):\n",
    "    L=log(0.5)*exp(-lambd)*lambd-lambd*log(lambd)\n",
    "    a=1\n",
    "    for x in range(1,21):\n",
    "        a=a*lambd/x\n",
    "        L=L+log(x+0.5)*a*exp(-lambd)*lambd\n",
    "    print('L('+str(lambd)+')='+str(L))"
   ]
  },
  {
   "cell_type": "markdown",
   "id": "20fa847f",
   "metadata": {},
   "source": [
    "The flow of the code is described as follows:  \n",
    "  \n",
    "Given $\\lambda$  \n",
    "$L=\\log(0.5)\\exp(-\\lambda)\\lambda-\\lambda\\log\\lambda$  \n",
    "$a=1$  \n",
    "for $x=1,2,\\dots,20$:  \n",
    "$\\;\\;a=a*\\lambda/x$  \n",
    "$\\;\\;L=L+\\log(x+0.5)a\\exp(-\\lambda)\\lambda$  \n",
    "end  \n",
    "output $L$"
   ]
  },
  {
   "cell_type": "markdown",
   "id": "a5acc824",
   "metadata": {},
   "source": [
    "The precision analysis of the calculation is as follows:  \n",
    "$\\lambda\\in\\{3,4,5\\}$, $x\\in\\{0,1,2,\\dots,20\\}$      \n",
    "Python uses Float64, with at least 15 significant digits.  \n",
    "   \n",
    "If the relative error of $r$ is $\\sigma<10^{-9}$ and the relative error of $s$ is $\\tau<10^{-9}$,  relative error of the operation $r*s$ or $r/s$ is not larger than $\\sigma+\\tau+\\sigma\\tau$. Because the relative Round-off Error is smaller than $10^{-15}$, relative error of $r*s$ or $r/s$ is smaller than $\\sigma+\\tau+10^{-14}$.  \n",
    "Therefore, considering the Error Propagation, because $x\\le20$, the relative error of $\\frac{\\lambda^{x}}{x!}$ is smaller than $10^{-14}\\times40+10^{-15}\\times40<10^{-10}$.  \n",
    "The relative numerical error of $\\log(x+0.5)$, $\\log(\\lambda)$, and $\\exp(-\\lambda)$ is far smaller than $10^{-10}$ , which is explained in the end.  \n",
    "Therefore, the relative error of $\\log(x+0.5)\\frac{\\lambda^{x}}{x!}\\exp(-\\lambda)\\lambda$ is smaller than $10^{-9}$.\n",
    "Because the absolute value of $\\log(x+0.5)\\frac{\\lambda^{x}}{x!}\\exp(-\\lambda)\\lambda$ is smaller than $\\log(21)\\times5<100$, the error of $\\log(x+0.5)\\frac{\\lambda^{x}}{x!}\\exp(-\\lambda)\\lambda$ is smaller than $10^{-7}$.  \n",
    "Therefore, the error of $\\sum_{x=0}^{20}\\log(x+0.5)\\frac{\\lambda^{x}}{x!}\\exp(-\\lambda)\\lambda$ is smaller than $10^{-5}$.  \n",
    "Thus, the numerical error of $L$ is far smaller than $10^{-4}$."
   ]
  },
  {
   "cell_type": "markdown",
   "id": "d4ed119a",
   "metadata": {},
   "source": [
    "Explanation  \n",
    "According to https://docs.python.org/3.9/library/math.html, the $\\exp$ and $\\log$ functions in Python’s math module are defined by the C standard. According to Chapter 7 of \"The Standard C Library; Plauger, P.J\", the relative numerical error of $\\exp$ and $\\log$ functions are smaller than $2^{-50}<10^{-15}$. The webpage https://www.gnu.org/software/libc/manual/html_node/Errors-in-Math-Functions.html#Errors-in-Math-Functions shows that the maximum relative error for these two functions in GNU C in the tests is smaller than $2^{-50}$. We also calculated $\\log(x+0.5)$, $\\log(\\lambda)$, and $\\exp(-\\lambda)$ by GNU C and Julia, their output values are the same with the values given below under 15 significant digits.  \n",
    "Therefore, the relative error of the $\\exp$ and $\\log$ functions here is far smaller than $10^{-10}$."
   ]
  },
  {
   "cell_type": "code",
   "execution_count": 2,
   "id": "49225ae6",
   "metadata": {},
   "outputs": [
    {
     "name": "stdout",
     "output_type": "stream",
     "text": [
      "[-0.6931471805599453, 0.4054651081081644, 0.9162907318741551, 1.252762968495368, 1.5040773967762742, 1.7047480922384253, 1.8718021769015913, 2.0149030205422647, 2.1400661634962708, 2.2512917986064953, 2.3513752571634776, 2.4423470353692043, 2.5257286443082556, 2.6026896854443837, 2.6741486494265287, 2.740840023925201, 2.803360380906535, 2.8622008809294686, 2.917770732084279, 2.970414465569701, 3.0204248861443626],"
     ]
    }
   ],
   "source": [
    "log_list=[]\n",
    "for x in range(21):\n",
    "    log_list.append(log(x+0.5))\n",
    "print(log_list,end=',')"
   ]
  },
  {
   "cell_type": "code",
   "execution_count": 3,
   "id": "176fe549",
   "metadata": {},
   "outputs": [
    {
     "data": {
      "text/plain": [
       "(1.0986122886681098, 1.3862943611198906, 1.6094379124341003)"
      ]
     },
     "execution_count": 3,
     "metadata": {},
     "output_type": "execute_result"
    }
   ],
   "source": [
    "log(3),log(4),log(5)"
   ]
  },
  {
   "cell_type": "code",
   "execution_count": 4,
   "id": "a4b3568a",
   "metadata": {},
   "outputs": [
    {
     "data": {
      "text/plain": [
       "(0.049787068367863944, 0.01831563888873418, 0.006737946999085467)"
      ]
     },
     "execution_count": 4,
     "metadata": {},
     "output_type": "execute_result"
    }
   ],
   "source": [
    "exp(-3),exp(-4),exp(-5)"
   ]
  },
  {
   "cell_type": "code",
   "execution_count": null,
   "id": "d8589e68",
   "metadata": {},
   "outputs": [],
   "source": []
  }
 ],
 "metadata": {
  "kernelspec": {
   "display_name": "Python 3 (ipykernel)",
   "language": "python",
   "name": "python3"
  },
  "language_info": {
   "codemirror_mode": {
    "name": "ipython",
    "version": 3
   },
   "file_extension": ".py",
   "mimetype": "text/x-python",
   "name": "python",
   "nbconvert_exporter": "python",
   "pygments_lexer": "ipython3",
   "version": "3.9.12"
  }
 },
 "nbformat": 4,
 "nbformat_minor": 5
}
