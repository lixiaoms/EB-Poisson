{
 "cells": [
  {
   "cell_type": "markdown",
   "id": "646266c0",
   "metadata": {},
   "source": [
    "This Python code is to verify that  \n",
    "$$L(\\lambda)=\\sum_{x=0}^{20}\\log(x+0.5)\\frac{\\lambda^{x}}{x!}\\exp(-\\lambda)\\lambda-\\lambda\\log\\lambda$$  \n",
    "satisfies $L(3)>0$, $L(4)>-0.009$,\n",
    "$L(5)>-0.011.$ "
   ]
  },
  {
   "cell_type": "code",
   "execution_count": 1,
   "id": "08cf2447",
   "metadata": {},
   "outputs": [
    {
     "name": "stdout",
     "output_type": "stream",
     "text": [
      "L(3)=0.005791702191402008\n",
      "L(4)=-0.008019023698407223\n",
      "L(5)=-0.010592572543824234\n"
     ]
    }
   ],
   "source": [
    "from math import *\n",
    "for lambd in range(3,6):\n",
    "    L=log(0.5)*exp(-lambd)*lambd-lambd*log(lambd)\n",
    "    a=1\n",
    "    for x in range(1,21):\n",
    "        a=a*lambd/x\n",
    "        L=L+log(x+0.5)*a*exp(-lambd)*lambd\n",
    "    print('L('+str(lambd)+')='+str(L))"
   ]
  },
  {
   "cell_type": "markdown",
   "id": "20fa847f",
   "metadata": {},
   "source": [
    "The flow of the code is described as follows:  \n",
    "  \n",
    "Given $\\lambda$  \n",
    "$L=\\log(0.5)\\exp(-\\lambda)\\lambda-\\lambda\\log\\lambda$  \n",
    "$a=1$  \n",
    "for $x=1,2,\\dots,20$:  \n",
    "$\\;\\;a=a*\\lambda/x$  \n",
    "$\\;\\;L=L+\\log(x+0.5)a\\exp(-\\lambda)\\lambda$  \n",
    "end  \n",
    "output $L$"
   ]
  },
  {
   "cell_type": "markdown",
   "id": "a5acc824",
   "metadata": {},
   "source": [
    "The precision analysis of the calculation is as follows:  \n",
    "$\\lambda\\in\\{3,4,5\\}$, $x\\in\\{1,2,\\dots,20\\}$      \n",
    "Python uses Float64, with at least 15 significant digits.  \n",
    "Therefore, the relative numerical error of $\\log(x+0.5)$, $\\log(\\lambda)$, and $\\exp(-\\lambda)$ is far smaller than $10^{-10}$  \n",
    "If the relative error of $r$ is $\\sigma<10^{-9}$ and the relative error of $s$ is $\\tau<10^{-9}$,  relative error of the operation $r*s$ or $r/s$ is smaller than $\\sigma+\\tau+\\sigma\\tau$. Becasue the relative Round-off Error is smaller than $10^{-15}$, relative error of $r*s$ or $r/s$ is smaller than $\\sigma+\\tau+10^{-14}$.  \n",
    "Therefore, considering the Error Propagation, because $x\\le20$, the relative error of $\\frac{\\lambda^{x}}{x!}$ is smaller than $10^{-14}\\times40+10^{-15}\\times40<10^{-10}$.  \n",
    "Therefore, the relative error of $\\log(x+0.5)\\frac{\\lambda^{x}}{x!}\\exp(-\\lambda)\\lambda$ is smaller than $10^{-9}$.\n",
    "Because the absolute value of $\\log(x+0.5)\\frac{\\lambda^{x}}{x!}\\exp(-\\lambda)\\lambda$ is smaller than $\\log(21)\\times5<100$, the error of $\\log(x+0.5)\\frac{\\lambda^{x}}{x!}\\exp(-\\lambda)\\lambda$ is smaller than $10^{-7}$.  \n",
    "Therefore, the error of $\\sum_{x=0}^{20}\\log(x+0.5)\\frac{\\lambda^{x}}{x!}\\exp(-\\lambda)\\lambda$ is smaller than $10^{-5}$.  \n",
    "Thus, the numerical error of $L$ is far smaller than $10^{-4}$."
   ]
  },
  {
   "cell_type": "code",
   "execution_count": null,
   "id": "8aa3180a",
   "metadata": {},
   "outputs": [],
   "source": []
  }
 ],
 "metadata": {
  "kernelspec": {
   "display_name": "Python 3 (ipykernel)",
   "language": "python",
   "name": "python3"
  },
  "language_info": {
   "codemirror_mode": {
    "name": "ipython",
    "version": 3
   },
   "file_extension": ".py",
   "mimetype": "text/x-python",
   "name": "python",
   "nbconvert_exporter": "python",
   "pygments_lexer": "ipython3",
   "version": "3.9.12"
  }
 },
 "nbformat": 4,
 "nbformat_minor": 5
}
